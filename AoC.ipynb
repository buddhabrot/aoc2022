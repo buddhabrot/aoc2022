{
 "cells": [
  {
   "cell_type": "code",
   "execution_count": 3,
   "id": "943357bc",
   "metadata": {},
   "outputs": [
    {
     "name": "stdout",
     "output_type": "stream",
     "text": [
      "68923\n"
     ]
    }
   ],
   "source": [
    "def elves():\n",
    "    with open(\"day1.txt\") as f:\n",
    "        data=[line.strip() for line in f.readlines()]\n",
    "        def chunks():\n",
    "            p = 0\n",
    "            for d in data:\n",
    "                if d=='':\n",
    "                    yield p\n",
    "                    p = 0\n",
    "                else:\n",
    "                    p += int(d)\n",
    "        return chunks()\n",
    "print(max(elves()))"
   ]
  },
  {
   "cell_type": "code",
   "execution_count": 8,
   "id": "854c9af1",
   "metadata": {},
   "outputs": [
    {
     "name": "stdout",
     "output_type": "stream",
     "text": [
      "200044\n"
     ]
    }
   ],
   "source": [
    "print(sum(sorted(elves(), reverse=True)[0:3]))"
   ]
  }
 ],
 "metadata": {
  "kernelspec": {
   "display_name": "Python 3 (ipykernel)",
   "language": "python",
   "name": "python3"
  },
  "language_info": {
   "codemirror_mode": {
    "name": "ipython",
    "version": 3
   },
   "file_extension": ".py",
   "mimetype": "text/x-python",
   "name": "python",
   "nbconvert_exporter": "python",
   "pygments_lexer": "ipython3",
   "version": "3.9.15"
  }
 },
 "nbformat": 4,
 "nbformat_minor": 5
}
