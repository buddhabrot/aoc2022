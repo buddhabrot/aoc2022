{
 "cells": [
  {
   "cell_type": "code",
   "execution_count": 11,
   "id": "943357bc",
   "metadata": {},
   "outputs": [],
   "source": [
    "def elves():\n",
    "    with open(\"day1.txt\") as f:\n",
    "        data=[line.strip() for line in f.readlines()]\n",
    "        def chunks():\n",
    "            p = 0\n",
    "            for d in data:\n",
    "                if d=='':\n",
    "                    yield p\n",
    "                    p = 0\n",
    "                else:\n",
    "                    p += int(d)\n",
    "        return chunks()\n",
    "day1a = max(elves())"
   ]
  },
  {
   "cell_type": "code",
   "execution_count": 12,
   "id": "5d01e974",
   "metadata": {},
   "outputs": [],
   "source": [
    "day1b = sum(sorted(elves(), reverse=True)[0:3])"
   ]
  },
  {
   "cell_type": "code",
   "execution_count": 13,
   "id": "e68fb518",
   "metadata": {},
   "outputs": [
    {
     "data": {
      "text/plain": [
       "(68923, 200044)"
      ]
     },
     "execution_count": 13,
     "metadata": {},
     "output_type": "execute_result"
    }
   ],
   "source": [
    "day1a, day1b"
   ]
  },
  {
   "cell_type": "code",
   "execution_count": 34,
   "id": "24edc5c8",
   "metadata": {},
   "outputs": [
    {
     "data": {
      "text/plain": [
       "(11906, 11186)"
      ]
     },
     "execution_count": 34,
     "metadata": {},
     "output_type": "execute_result"
    }
   ],
   "source": [
    "def day2b():\n",
    "    with open(\"day2.txt\") as f:\n",
    "        guide=[line.strip() for line in f.readlines()]\n",
    "        guide = list(map(lambda x: tuple(x.split(\" \")), guide))\n",
    "    \n",
    "    win = {'A':'Y','B':'Z','C':'X'}\n",
    "    lose = {'A':'Z','B':'X','C':'Y'}\n",
    "    draw = {'A':'X','B':'Y','C':'Z'}\n",
    "    scoring = {'X':1,'Y':2,'Z':3}\n",
    "\n",
    "    score = lambda opp, you: scoring[you] + (6 if win[opp] == you else 3 if draw[opp] == you else 0)\n",
    "    move = {'X':lose,'Y':draw,'Z':win}\n",
    "    \n",
    "    total_basic = sum([score(opp,you) for opp,you in guide])\n",
    "    total_advanced = sum([score(opp,(move[you])[opp]) for opp,you in guide])\n",
    "\n",
    "    return total_basic, total_advanced\n",
    "day2b()"
   ]
  },
  {
   "cell_type": "code",
   "execution_count": 64,
   "id": "71fcfae5",
   "metadata": {},
   "outputs": [
    {
     "name": "stdout",
     "output_type": "stream",
     "text": [
      "7746\n",
      "2604\n"
     ]
    }
   ],
   "source": [
    "def day3():\n",
    "    with open(\"day3.txt\") as f:\n",
    "        rucksacks = [line.strip() for line in f.readlines()]\n",
    "        make_set = lambda x: set(list(x))\n",
    "        rucksacks = list(map(lambda x: (make_set(x[:len(x)//2]),make_set(x[len(x)//2:])), rucksacks))\n",
    "    priority = lambda p: ord(p) - ord('a') + 1 if p.islower() else ord(p) - ord('A') + 27\n",
    "\n",
    "    s = 0\n",
    "    for l,r in rucksacks:\n",
    "        common = l.intersection(r)\n",
    "        s += priority(min(common))\n",
    "    print(s)\n",
    "    \n",
    "    s = 0\n",
    "    groups = [[rucksacks[i],rucksacks[i+1],rucksacks[i+2]] for i in range(0,len(rucksacks),3)]\n",
    "    for group in groups:\n",
    "        m = None\n",
    "        for l,r in group:\n",
    "            m = l.union(r) if m is None else m.intersection(l.union(r))\n",
    "        s += priority(min(m))\n",
    "    print(s)\n",
    "\n",
    "day3()"
   ]
  },
  {
   "cell_type": "code",
   "execution_count": 73,
   "id": "d48bf1a4",
   "metadata": {},
   "outputs": [
    {
     "name": "stdout",
     "output_type": "stream",
     "text": [
      "490 921\n"
     ]
    }
   ],
   "source": [
    "def day4():\n",
    "    with open(\"day4.txt\") as f:\n",
    "        cfg = [line.strip() for line in f.readlines()]\n",
    "        inc_range = lambda x,y: range(int(x),int(y)+1)\n",
    "        mk_range = lambda x: inc_range(*x.split('-'))\n",
    "        cfg = list(map(lambda c: list(map(set,map(mk_range,c.split(\",\")))), cfg))\n",
    "        \n",
    "    def overlaps(c):\n",
    "        left,right = tuple(c)\n",
    "        return len(left.intersection(right)) > 0\n",
    "    \n",
    "    def contains(c):\n",
    "        left,right = tuple(c)\n",
    "        return len(left.intersection(right)) == min(len(left),len(right))\n",
    "    \n",
    "    a = sum(map(contains, cfg))\n",
    "    b = sum(map(overlaps, cfg))\n",
    "\n",
    "    print(a,b)\n",
    "day4()"
   ]
  },
  {
   "cell_type": "code",
   "execution_count": 113,
   "id": "aab1332a",
   "metadata": {},
   "outputs": [
    {
     "name": "stdout",
     "output_type": "stream",
     "text": [
      "SBPQRSCDF\n",
      "RGLVRCQSB\n"
     ]
    }
   ],
   "source": [
    "import re\n",
    "def day5():\n",
    "    with open(\"day5.txt\") as f:\n",
    "        lines = map(lambda l: l.strip(), f.readlines())\n",
    "        crates = [[]] * 9\n",
    "        crates_b = [[]] * 9\n",
    "        for l in lines:\n",
    "            for i,s in enumerate(l[1::4]):\n",
    "                if s.isupper():\n",
    "                    crates[i] = [s] + crates[i]\n",
    "                    crates_b[i] = [s] + crates_b[i]\n",
    "            if l == \"\":\n",
    "                break\n",
    "        pattern = re.compile(\"move (.*) from (.*) to (.*)\")\n",
    "        for l in lines:\n",
    "            n, fr, to = map(int, pattern.search(l).groups())\n",
    "            for _ in range(n):\n",
    "                c = crates[fr-1].pop()\n",
    "                crates[to-1].append(c)\n",
    "            crates_b[to-1] = crates_b[to-1] + crates_b[fr-1][-n:]\n",
    "            del crates_b[fr-1][-n:]\n",
    "        print(\"\".join([c[-1] for c in crates]))\n",
    "        print(\"\".join([c[-1] for c in crates_b]))\n",
    "\n",
    "day5()"
   ]
  },
  {
   "cell_type": "code",
   "execution_count": 138,
   "id": "8b60ad62",
   "metadata": {},
   "outputs": [
    {
     "name": "stdout",
     "output_type": "stream",
     "text": [
      "1282\n",
      "3513\n"
     ]
    }
   ],
   "source": [
    "def day6(marker_length = 4):\n",
    "    with open(\"day6.txt\") as f:\n",
    "        l = list(f.readline())\n",
    "    for i in range(len(l)-marker_length):\n",
    "        if len(set(l[i:i+marker_length])) == marker_length:\n",
    "            print(i+marker_length)\n",
    "            break\n",
    "day6()\n",
    "day6(14)"
   ]
  },
  {
   "cell_type": "code",
   "execution_count": 193,
   "id": "a5a3939d",
   "metadata": {},
   "outputs": [
    {
     "name": "stdout",
     "output_type": "stream",
     "text": [
      "1743217\n",
      "8319096.0\n"
     ]
    }
   ],
   "source": [
    "def day7():\n",
    "    with open(\"day7.txt\") as f:\n",
    "        lines = map(lambda l: l.rstrip(), f.readlines())\n",
    "    root = tree = {}\n",
    "    last_tree = [root]\n",
    "    for line in lines:\n",
    "        if line[0] == \"$\":\n",
    "            cmd = line[2:].split(\" \")\n",
    "            if cmd[0] == \"cd\":\n",
    "                d = cmd[1]\n",
    "                if d == \"..\":\n",
    "                    tree = last_tree.pop()\n",
    "                else:\n",
    "                    last_tree.append(tree)\n",
    "                    if d not in tree:\n",
    "                        tree[d] = {}\n",
    "                    tree = tree[d]\n",
    "        else:\n",
    "            info, file = line.split(\" \")\n",
    "            if info == \"dir\":\n",
    "                tree[file] = {}\n",
    "            else:\n",
    "                tree[file] = int(info)\n",
    "                \n",
    "    def file_size(tree):\n",
    "        total = 0\n",
    "        for k,v in tree.items():\n",
    "            if type(v) == int:\n",
    "                total += v\n",
    "            else:\n",
    "                total += file_size(v)\n",
    "        return total\n",
    "    \n",
    "    def small_dir_size(tree):\n",
    "        total = 0\n",
    "        for k,v in tree.items():\n",
    "            if type(v) is not int:\n",
    "                s = file_size(v)\n",
    "                if s <= 100000:\n",
    "                    total += s\n",
    "                total += small_dir_size(v)\n",
    "        return total\n",
    "    \n",
    "    print(small_dir_size(root))\n",
    "    root_size = file_size(root)\n",
    "    to_free = root_size - 4e7\n",
    "    \n",
    "    smallest = [None]\n",
    "    def collect_smallest(tree, sm):\n",
    "        for k,v in tree.items():\n",
    "            if type(v) is not int:\n",
    "                size = file_size(v)\n",
    "                if size >= to_free and (sm[0] is None or sm[0] > (file_size(v)-to_free)):\n",
    "                    sm[0] = file_size(v)-to_free\n",
    "                collect_smallest(v, sm)\n",
    "                \n",
    "    collect_smallest(root, smallest)\n",
    "    print(smallest[0]+to_free)\n",
    "day7()\n",
    "        "
   ]
  },
  {
   "cell_type": "code",
   "execution_count": 274,
   "id": "c8ff030b",
   "metadata": {},
   "outputs": [
    {
     "name": "stdout",
     "output_type": "stream",
     "text": [
      "1662\n",
      "537600\n"
     ]
    }
   ],
   "source": [
    "from collections import defaultdict\n",
    "def day8():\n",
    "    with open(\"day8.txt\") as f:\n",
    "        t = list(map(lambda l: list(l.rstrip()), f.readlines()))\n",
    "    \n",
    "    h = len(t)\n",
    "    w = len(t[0])\n",
    "    v = {}\n",
    "    s = {}\n",
    "    \n",
    "    for y in range(h):\n",
    "        for x in range(w):\n",
    "            tree = t[y][x]\n",
    "            los_x = [reversed(range(0,x)),range(x+1,w)]\n",
    "            los_y = [reversed(range(0,y)),range(y+1,h)]\n",
    "            scores = []\n",
    "            \n",
    "            tree_los = []\n",
    "            \n",
    "            for los in los_x:\n",
    "                tree_los.append(list(map(lambda T: T < tree, [t[y][x] for x in los])))\n",
    "            for los in los_y:\n",
    "                tree_los.append(list(map(lambda T: T < tree, [t[y][x] for y in los])))\n",
    "                \n",
    "            for trees in tree_los:\n",
    "                if all(trees):\n",
    "                    v[(x,y)] = True\n",
    "                    score = len(list(trees))\n",
    "                else:\n",
    "                    for idx,T in enumerate(trees):\n",
    "                        if not T:\n",
    "                            score = idx+1\n",
    "                            break\n",
    "                    \n",
    "                scores.append(score)\n",
    "\n",
    "            s[(x,y)] = scores[0]*scores[1]*scores[2]*scores[3]\n",
    "            \n",
    "    print(len(v.keys()))\n",
    "    print(max(s.values()))\n",
    "            \n",
    "day8()\n",
    "            "
   ]
  },
  {
   "cell_type": "code",
   "execution_count": 365,
   "id": "10526c96",
   "metadata": {},
   "outputs": [
    {
     "name": "stdout",
     "output_type": "stream",
     "text": [
      "(36, 25)\n",
      "(-278, 119)\n",
      "843\n"
     ]
    }
   ],
   "source": [
    "from PIL import Image, ImageDraw\n",
    "\n",
    "def day9(N = 2):\n",
    "    with open(\"day9.txt\") as f:\n",
    "        move = lambda move: {'R': (1,0), 'L': (-1,0), 'D': (0,1), 'U': (0,-1)}[move]\n",
    "        tuples = list(map(lambda l: l.rstrip().split(\" \"), f.readlines()))\n",
    "        moves = list(map(lambda t: (move(t[0]), int(t[1])), tuples))\n",
    "    \n",
    "    frames = []\n",
    "    nodes = [[0,0] for i in range(N)]\n",
    "    visited = set([(0,0)])\n",
    "    for move in moves:\n",
    "        for i in range(move[1]):\n",
    "            head = nodes[0]\n",
    "            head[0] += move[0][0]\n",
    "            head[1] += move[0][1]\n",
    "\n",
    "            for r in range(0,N-1):\n",
    "                head = nodes[r]\n",
    "                tail = nodes[r+1]\n",
    "                \n",
    "                if (tail[0] == head[0] and abs(tail[1]-head[1]) == 2):\n",
    "                    tail[1]=head[1]+(1 if tail[1]>head[1] else -1)\n",
    "                if (tail[1] == head[1] and abs(tail[0]-head[0]) == 2):\n",
    "                    tail[0]=head[0]+(1 if tail[0]>head[0] else -1)\n",
    "                if (tail[0] != head[0] and tail[1] != head[1] and not \\\n",
    "                    (abs(tail[0]-head[0]) == 1 and abs(tail[1]-head[1]) == 1)):\n",
    "                    tail[0] += (1 if tail[0]<head[0] else -1)\n",
    "                    tail[1] += (1 if tail[1]<head[1] else -1)\n",
    "            visited.add(tuple(nodes[-1]))\n",
    "            new_frame = Image.new(\"RGB\", (300,300))\n",
    "            draw = ImageDraw.Draw(new_frame)\n",
    "            coords = list(map(lambda n: (n[0]*4+200, n[1]*4+100),nodes))\n",
    "            draw.line(coords, fill=\"red\", width=4)\n",
    "            \n",
    "        frames.append(new_frame)\n",
    "    frames[0].save('rope.gif', format='GIF', append_images=frames[1:], save_all=True, duration=100, loop=0)\n",
    "    \n",
    "    print(max(visited))\n",
    "    print(min(visited))\n",
    "\n",
    "    print(len(visited))\n",
    "    \n",
    "#day9()\n",
    "day9(36)"
   ]
  },
  {
   "cell_type": "code",
   "execution_count": 390,
   "id": "a574e7c4",
   "metadata": {},
   "outputs": [
    {
     "name": "stdout",
     "output_type": "stream",
     "text": [
      "13860\n",
      "###..####.#..#.####..##....##..##..###..\n",
      "#..#....#.#..#.#....#..#....#.#..#.#..#.\n",
      "#..#...#..####.###..#.......#.#....###..\n",
      "###...#...#..#.#....#.##....#.#....#..#.\n",
      "#.#..#....#..#.#....#..#.#..#.#..#.#..#.\n",
      "#..#.####.#..#.#.....###..##...##..###..\n"
     ]
    }
   ],
   "source": [
    "def day10():\n",
    "    with open(\"day10.txt\") as f:\n",
    "        cmds = list(map(lambda l: l.rstrip().split(\" \"), f.readlines()))\n",
    "        \n",
    "    cycle = 0\n",
    "    x = 1\n",
    "    samples = []\n",
    "    crt = [[] for _ in range(6)]\n",
    "    \n",
    "    def signal(cycle, samples, x):\n",
    "        row = (cycle-1)//40\n",
    "        char = \"#\" if abs(len(crt[row])-x) <= 1 else \".\"\n",
    "        crt[row].append(char)\n",
    "        if (cycle-20)%40 == 0:\n",
    "            samples.append(x * cycle)\n",
    "        \n",
    "    for cmd in cmds:\n",
    "        if cmd[0] == \"noop\":\n",
    "            cycle += 1\n",
    "            signal(cycle, samples, x)\n",
    "            \n",
    "        if cmd[0] == \"addx\":\n",
    "            cycle += 1\n",
    "            signal(cycle, samples, x)\n",
    "            cycle += 1\n",
    "            signal(cycle, samples, x)\n",
    "            x += int(cmd[1])\n",
    "        \n",
    "    print(sum(samples))\n",
    "    for row in crt:\n",
    "        print(\"\".join(row))\n",
    "day10()"
   ]
  },
  {
   "cell_type": "code",
   "execution_count": null,
   "id": "6af20b8a",
   "metadata": {},
   "outputs": [],
   "source": []
  }
 ],
 "metadata": {
  "kernelspec": {
   "display_name": "Python 3 (ipykernel)",
   "language": "python",
   "name": "python3"
  },
  "language_info": {
   "codemirror_mode": {
    "name": "ipython",
    "version": 3
   },
   "file_extension": ".py",
   "mimetype": "text/x-python",
   "name": "python",
   "nbconvert_exporter": "python",
   "pygments_lexer": "ipython3",
   "version": "3.9.15"
  }
 },
 "nbformat": 4,
 "nbformat_minor": 5
}
