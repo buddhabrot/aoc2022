{
 "cells": [
  {
   "cell_type": "code",
   "execution_count": 11,
   "id": "943357bc",
   "metadata": {},
   "outputs": [],
   "source": [
    "def elves():\n",
    "    with open(\"day1.txt\") as f:\n",
    "        data=[line.strip() for line in f.readlines()]\n",
    "        def chunks():\n",
    "            p = 0\n",
    "            for d in data:\n",
    "                if d=='':\n",
    "                    yield p\n",
    "                    p = 0\n",
    "                else:\n",
    "                    p += int(d)\n",
    "        return chunks()\n",
    "day1a = max(elves())"
   ]
  },
  {
   "cell_type": "code",
   "execution_count": 12,
   "id": "5d01e974",
   "metadata": {},
   "outputs": [],
   "source": [
    "day1b = sum(sorted(elves(), reverse=True)[0:3])"
   ]
  },
  {
   "cell_type": "code",
   "execution_count": 13,
   "id": "e68fb518",
   "metadata": {},
   "outputs": [
    {
     "data": {
      "text/plain": [
       "(68923, 200044)"
      ]
     },
     "execution_count": 13,
     "metadata": {},
     "output_type": "execute_result"
    }
   ],
   "source": [
    "day1a, day1b"
   ]
  },
  {
   "cell_type": "code",
   "execution_count": 34,
   "id": "24edc5c8",
   "metadata": {},
   "outputs": [
    {
     "data": {
      "text/plain": [
       "(11906, 11186)"
      ]
     },
     "execution_count": 34,
     "metadata": {},
     "output_type": "execute_result"
    }
   ],
   "source": [
    "def day2b():\n",
    "    with open(\"day2.txt\") as f:\n",
    "        guide=[line.strip() for line in f.readlines()]\n",
    "        guide = list(map(lambda x: tuple(x.split(\" \")), guide))\n",
    "    \n",
    "    win = {'A':'Y','B':'Z','C':'X'}\n",
    "    lose = {'A':'Z','B':'X','C':'Y'}\n",
    "    draw = {'A':'X','B':'Y','C':'Z'}\n",
    "    scoring = {'X':1,'Y':2,'Z':3}\n",
    "\n",
    "    score = lambda opp, you: scoring[you] + (6 if win[opp] == you else 3 if draw[opp] == you else 0)\n",
    "    move = {'X':lose,'Y':draw,'Z':win}\n",
    "    \n",
    "    total_basic = sum([score(opp,you) for opp,you in guide])\n",
    "    total_advanced = sum([score(opp,(move[you])[opp]) for opp,you in guide])\n",
    "\n",
    "    return total_basic, total_advanced\n",
    "day2b()"
   ]
  },
  {
   "cell_type": "code",
   "execution_count": 64,
   "id": "71fcfae5",
   "metadata": {},
   "outputs": [
    {
     "name": "stdout",
     "output_type": "stream",
     "text": [
      "7746\n",
      "2604\n"
     ]
    }
   ],
   "source": [
    "def day3():\n",
    "    with open(\"day3.txt\") as f:\n",
    "        rucksacks = [line.strip() for line in f.readlines()]\n",
    "        make_set = lambda x: set(list(x))\n",
    "        rucksacks = list(map(lambda x: (make_set(x[:len(x)//2]),make_set(x[len(x)//2:])), rucksacks))\n",
    "    priority = lambda p: ord(p) - ord('a') + 1 if p.islower() else ord(p) - ord('A') + 27\n",
    "\n",
    "    s = 0\n",
    "    for l,r in rucksacks:\n",
    "        common = l.intersection(r)\n",
    "        s += priority(min(common))\n",
    "    print(s)\n",
    "    \n",
    "    s = 0\n",
    "    groups = [[rucksacks[i],rucksacks[i+1],rucksacks[i+2]] for i in range(0,len(rucksacks),3)]\n",
    "    for group in groups:\n",
    "        m = None\n",
    "        for l,r in group:\n",
    "            m = l.union(r) if m is None else m.intersection(l.union(r))\n",
    "        s += priority(min(m))\n",
    "    print(s)\n",
    "\n",
    "day3()"
   ]
  },
  {
   "cell_type": "code",
   "execution_count": 73,
   "id": "d48bf1a4",
   "metadata": {},
   "outputs": [
    {
     "name": "stdout",
     "output_type": "stream",
     "text": [
      "490 921\n"
     ]
    }
   ],
   "source": [
    "def day4():\n",
    "    with open(\"day4.txt\") as f:\n",
    "        cfg = [line.strip() for line in f.readlines()]\n",
    "        inc_range = lambda x,y: range(int(x),int(y)+1)\n",
    "        mk_range = lambda x: inc_range(*x.split('-'))\n",
    "        cfg = list(map(lambda c: list(map(set,map(mk_range,c.split(\",\")))), cfg))\n",
    "        \n",
    "    def overlaps(c):\n",
    "        left,right = tuple(c)\n",
    "        return len(left.intersection(right)) > 0\n",
    "    \n",
    "    def contains(c):\n",
    "        left,right = tuple(c)\n",
    "        return len(left.intersection(right)) == min(len(left),len(right))\n",
    "    \n",
    "    a = sum(map(contains, cfg))\n",
    "    b = sum(map(overlaps, cfg))\n",
    "\n",
    "    print(a,b)\n",
    "day4()"
   ]
  },
  {
   "cell_type": "code",
   "execution_count": 113,
   "id": "aab1332a",
   "metadata": {},
   "outputs": [
    {
     "name": "stdout",
     "output_type": "stream",
     "text": [
      "SBPQRSCDF\n",
      "RGLVRCQSB\n"
     ]
    }
   ],
   "source": [
    "import re\n",
    "def day5():\n",
    "    with open(\"day5.txt\") as f:\n",
    "        lines = map(lambda l: l.strip(), f.readlines())\n",
    "        crates = [[]] * 9\n",
    "        crates_b = [[]] * 9\n",
    "        for l in lines:\n",
    "            for i,s in enumerate(l[1::4]):\n",
    "                if s.isupper():\n",
    "                    crates[i] = [s] + crates[i]\n",
    "                    crates_b[i] = [s] + crates_b[i]\n",
    "            if l == \"\":\n",
    "                break\n",
    "        pattern = re.compile(\"move (.*) from (.*) to (.*)\")\n",
    "        for l in lines:\n",
    "            n, fr, to = map(int, pattern.search(l).groups())\n",
    "            for _ in range(n):\n",
    "                c = crates[fr-1].pop()\n",
    "                crates[to-1].append(c)\n",
    "            crates_b[to-1] = crates_b[to-1] + crates_b[fr-1][-n:]\n",
    "            del crates_b[fr-1][-n:]\n",
    "        print(\"\".join([c[-1] for c in crates]))\n",
    "        print(\"\".join([c[-1] for c in crates_b]))\n",
    "\n",
    "day5()"
   ]
  },
  {
   "cell_type": "code",
   "execution_count": 112,
   "id": "56d0b4d4",
   "metadata": {},
   "outputs": [
    {
     "data": {
      "text/plain": [
       "[7, 8, 9]"
      ]
     },
     "execution_count": 112,
     "metadata": {},
     "output_type": "execute_result"
    }
   ],
   "source": [
    "list(range(10))[-3:]"
   ]
  },
  {
   "cell_type": "code",
   "execution_count": null,
   "id": "d50c6662",
   "metadata": {},
   "outputs": [],
   "source": []
  }
 ],
 "metadata": {
  "kernelspec": {
   "display_name": "Python 3 (ipykernel)",
   "language": "python",
   "name": "python3"
  },
  "language_info": {
   "codemirror_mode": {
    "name": "ipython",
    "version": 3
   },
   "file_extension": ".py",
   "mimetype": "text/x-python",
   "name": "python",
   "nbconvert_exporter": "python",
   "pygments_lexer": "ipython3",
   "version": "3.9.15"
  }
 },
 "nbformat": 4,
 "nbformat_minor": 5
}
