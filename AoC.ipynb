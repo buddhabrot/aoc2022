{
 "cells": [
  {
   "cell_type": "code",
   "execution_count": 11,
   "id": "943357bc",
   "metadata": {},
   "outputs": [],
   "source": [
    "def elves():\n",
    "    with open(\"day1.txt\") as f:\n",
    "        data=[line.strip() for line in f.readlines()]\n",
    "        def chunks():\n",
    "            p = 0\n",
    "            for d in data:\n",
    "                if d=='':\n",
    "                    yield p\n",
    "                    p = 0\n",
    "                else:\n",
    "                    p += int(d)\n",
    "        return chunks()\n",
    "day1a = max(elves())"
   ]
  },
  {
   "cell_type": "code",
   "execution_count": 12,
   "id": "82633160",
   "metadata": {},
   "outputs": [],
   "source": [
    "day1b = sum(sorted(elves(), reverse=True)[0:3])"
   ]
  },
  {
   "cell_type": "code",
   "execution_count": 13,
   "id": "279e78a1",
   "metadata": {},
   "outputs": [
    {
     "data": {
      "text/plain": [
       "(68923, 200044)"
      ]
     },
     "execution_count": 13,
     "metadata": {},
     "output_type": "execute_result"
    }
   ],
   "source": [
    "day1a, day1b"
   ]
  },
  {
   "cell_type": "code",
   "execution_count": 31,
   "id": "c43998ff",
   "metadata": {},
   "outputs": [
    {
     "data": {
      "text/plain": [
       "11906"
      ]
     },
     "execution_count": 31,
     "metadata": {},
     "output_type": "execute_result"
    }
   ],
   "source": [
    "def day2():\n",
    "    with open(\"day2.txt\") as f:\n",
    "        guide=[line.strip() for line in f.readlines()]\n",
    "        guide = map(lambda x: tuple(x.split(\" \")), guide)\n",
    "    \n",
    "    win = {'A':'Y','B':'Z','C':'X'}\n",
    "    lose = {'A':'Z','B':'X','C':'Y'}\n",
    "    draw = {'A':'X','B':'Y','C':'Z'}\n",
    "    scoring = {'X':1,'Y':2,'Z':3}\n",
    "\n",
    "    score = lambda opp, you: scoring[you] + (6 if win[opp] == you else 3 if draw[opp] == you else 0)\n",
    "    move = {'X':lose,'Y':draw,'Z':win}\n",
    "    \n",
    "    total_basic = sum([score(opp,you) for opp,you in guide])\n",
    "    total_advanced = sum([score(opp,move[you][opp]) for opp,you in guide])\n",
    "\n",
    "    return total_basic, total_advanced\n",
    "day2b()"
   ]
  },
  {
   "cell_type": "code",
   "execution_count": null,
   "id": "41bd8073",
   "metadata": {},
   "outputs": [],
   "source": []
  }
 ],
 "metadata": {
  "kernelspec": {
   "display_name": "Python 3 (ipykernel)",
   "language": "python",
   "name": "python3"
  },
  "language_info": {
   "codemirror_mode": {
    "name": "ipython",
    "version": 3
   },
   "file_extension": ".py",
   "mimetype": "text/x-python",
   "name": "python",
   "nbconvert_exporter": "python",
   "pygments_lexer": "ipython3",
   "version": "3.9.15"
  }
 },
 "nbformat": 4,
 "nbformat_minor": 5
}
