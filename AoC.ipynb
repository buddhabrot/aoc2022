{
 "cells": [
  {
   "cell_type": "code",
   "execution_count": 11,
   "id": "943357bc",
   "metadata": {},
   "outputs": [],
   "source": [
    "def elves():\n",
    "    with open(\"day1.txt\") as f:\n",
    "        data=[line.strip() for line in f.readlines()]\n",
    "        def chunks():\n",
    "            p = 0\n",
    "            for d in data:\n",
    "                if d=='':\n",
    "                    yield p\n",
    "                    p = 0\n",
    "                else:\n",
    "                    p += int(d)\n",
    "        return chunks()\n",
    "day1a = max(elves())"
   ]
  },
  {
   "cell_type": "code",
   "execution_count": 12,
   "id": "d76c21bc",
   "metadata": {},
   "outputs": [],
   "source": [
    "day1b = sum(sorted(elves(), reverse=True)[0:3])"
   ]
  },
  {
   "cell_type": "code",
   "execution_count": 13,
   "id": "d8584a30",
   "metadata": {},
   "outputs": [
    {
     "data": {
      "text/plain": [
       "(68923, 200044)"
      ]
     },
     "execution_count": 13,
     "metadata": {},
     "output_type": "execute_result"
    }
   ],
   "source": [
    "day1a, day1b"
   ]
  },
  {
   "cell_type": "code",
   "execution_count": 34,
   "id": "51145c52",
   "metadata": {},
   "outputs": [
    {
     "data": {
      "text/plain": [
       "(11906, 11186)"
      ]
     },
     "execution_count": 34,
     "metadata": {},
     "output_type": "execute_result"
    }
   ],
   "source": [
    "def day2b():\n",
    "    with open(\"day2.txt\") as f:\n",
    "        guide=[line.strip() for line in f.readlines()]\n",
    "        guide = list(map(lambda x: tuple(x.split(\" \")), guide))\n",
    "    \n",
    "    win = {'A':'Y','B':'Z','C':'X'}\n",
    "    lose = {'A':'Z','B':'X','C':'Y'}\n",
    "    draw = {'A':'X','B':'Y','C':'Z'}\n",
    "    scoring = {'X':1,'Y':2,'Z':3}\n",
    "\n",
    "    score = lambda opp, you: scoring[you] + (6 if win[opp] == you else 3 if draw[opp] == you else 0)\n",
    "    move = {'X':lose,'Y':draw,'Z':win}\n",
    "    \n",
    "    total_basic = sum([score(opp,you) for opp,you in guide])\n",
    "    total_advanced = sum([score(opp,(move[you])[opp]) for opp,you in guide])\n",
    "\n",
    "    return total_basic, total_advanced\n",
    "day2b()"
   ]
  },
  {
   "cell_type": "code",
   "execution_count": 64,
   "id": "47395424",
   "metadata": {},
   "outputs": [
    {
     "name": "stdout",
     "output_type": "stream",
     "text": [
      "7746\n",
      "2604\n"
     ]
    }
   ],
   "source": [
    "def day3():\n",
    "    with open(\"day3.txt\") as f:\n",
    "        rucksacks = [line.strip() for line in f.readlines()]\n",
    "        make_set = lambda x: set(list(x))\n",
    "        rucksacks = list(map(lambda x: (make_set(x[:len(x)//2]),make_set(x[len(x)//2:])), rucksacks))\n",
    "    priority = lambda p: ord(p) - ord('a') + 1 if p.islower() else ord(p) - ord('A') + 27\n",
    "\n",
    "    s = 0\n",
    "    for l,r in rucksacks:\n",
    "        common = l.intersection(r)\n",
    "        s += priority(min(common))\n",
    "    print(s)\n",
    "    \n",
    "    s = 0\n",
    "    groups = [[rucksacks[i],rucksacks[i+1],rucksacks[i+2]] for i in range(0,len(rucksacks),3)]\n",
    "    for group in groups:\n",
    "        m = None\n",
    "        for l,r in group:\n",
    "            m = l.union(r) if m is None else m.intersection(l.union(r))\n",
    "        s += priority(min(m))\n",
    "    print(s)\n",
    "\n",
    "day3()"
   ]
  }
 ],
 "metadata": {
  "kernelspec": {
   "display_name": "Python 3 (ipykernel)",
   "language": "python",
   "name": "python3"
  },
  "language_info": {
   "codemirror_mode": {
    "name": "ipython",
    "version": 3
   },
   "file_extension": ".py",
   "mimetype": "text/x-python",
   "name": "python",
   "nbconvert_exporter": "python",
   "pygments_lexer": "ipython3",
   "version": "3.9.15"
  }
 },
 "nbformat": 4,
 "nbformat_minor": 5
}
